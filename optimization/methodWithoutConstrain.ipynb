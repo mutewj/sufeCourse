{
 "cells": [
  {
   "cell_type": "markdown",
   "metadata": {},
   "source": [
    "1、梯度下降法求多元二次函数极小值点，同时求出每步迭代的梯度"
   ]
  },
  {
   "cell_type": "code",
   "execution_count": 12,
   "metadata": {},
   "outputs": [],
   "source": [
    "import numpy as np\n",
    "import pandas as pd"
   ]
  },
  {
   "cell_type": "code",
   "execution_count": 54,
   "metadata": {},
   "outputs": [],
   "source": [
    "def objGradient(A, x):\n",
    "    g = A @ np.array(x)\n",
    "    gNorm = np.linalg.norm(g, axis = 0)\n",
    "    return np.array(g), gNorm"
   ]
  },
  {
   "cell_type": "code",
   "execution_count": 55,
   "metadata": {},
   "outputs": [],
   "source": [
    "def gradientDescent(A, epsilon, x0):\n",
    "    x = x0\n",
    "    X, G, Norm = [], [], []\n",
    "    g, NormG = objGradient(A, x0)\n",
    "    X.append(x)\n",
    "    G.append(g)\n",
    "    Norm.append(NormG)\n",
    "    while NormG >= epsilon:\n",
    "        x = x - ((g.T@g)/(g.T@A@g))*g\n",
    "        X.append(x)\n",
    "        g, NormG = objGradient(A, x)\n",
    "        G.append(g)\n",
    "        Norm.append(NormG)\n",
    "    return X, G, Norm"
   ]
  },
  {
   "cell_type": "code",
   "execution_count": 56,
   "metadata": {},
   "outputs": [],
   "source": [
    "A = np.array([[2, 0], [0, 8]])\n",
    "epsilon = 0.01\n",
    "x0 = np.array([1, 1])\n",
    "X, G, Norm = gradientDescent(A, epsilon, x0)"
   ]
  },
  {
   "cell_type": "code",
   "execution_count": 57,
   "metadata": {},
   "outputs": [],
   "source": [
    "res1 = pd.DataFrame({'X':X,'梯度':G,'梯度范数':Norm})"
   ]
  },
  {
   "cell_type": "code",
   "execution_count": 58,
   "metadata": {},
   "outputs": [
    {
     "data": {
      "text/html": [
       "<div>\n",
       "<style scoped>\n",
       "    .dataframe tbody tr th:only-of-type {\n",
       "        vertical-align: middle;\n",
       "    }\n",
       "\n",
       "    .dataframe tbody tr th {\n",
       "        vertical-align: top;\n",
       "    }\n",
       "\n",
       "    .dataframe thead th {\n",
       "        text-align: right;\n",
       "    }\n",
       "</style>\n",
       "<table border=\"1\" class=\"dataframe\">\n",
       "  <thead>\n",
       "    <tr style=\"text-align: right;\">\n",
       "      <th></th>\n",
       "      <th>X</th>\n",
       "      <th>梯度</th>\n",
       "      <th>梯度范数</th>\n",
       "    </tr>\n",
       "  </thead>\n",
       "  <tbody>\n",
       "    <tr>\n",
       "      <th>0</th>\n",
       "      <td>[1, 1]</td>\n",
       "      <td>[2, 8]</td>\n",
       "      <td>8.246211</td>\n",
       "    </tr>\n",
       "    <tr>\n",
       "      <th>1</th>\n",
       "      <td>[0.7384615384615385, -0.04615384615384621]</td>\n",
       "      <td>[1.476923076923077, -0.3692307692307697]</td>\n",
       "      <td>1.522377</td>\n",
       "    </tr>\n",
       "    <tr>\n",
       "      <th>2</th>\n",
       "      <td>[0.11076923076923095, 0.11076923076923087]</td>\n",
       "      <td>[0.2215384615384619, 0.886153846153847]</td>\n",
       "      <td>0.913426</td>\n",
       "    </tr>\n",
       "    <tr>\n",
       "      <th>3</th>\n",
       "      <td>[0.08179881656804747, -0.005112426035502965]</td>\n",
       "      <td>[0.16359763313609493, -0.04089940828402372]</td>\n",
       "      <td>0.168633</td>\n",
       "    </tr>\n",
       "    <tr>\n",
       "      <th>4</th>\n",
       "      <td>[0.01226982248520711, 0.01226982248520712]</td>\n",
       "      <td>[0.02453964497041422, 0.09815857988165697]</td>\n",
       "      <td>0.101180</td>\n",
       "    </tr>\n",
       "    <tr>\n",
       "      <th>5</th>\n",
       "      <td>[0.009060791989076021, -0.00056629949931725]</td>\n",
       "      <td>[0.018121583978152042, -0.004530395994538]</td>\n",
       "      <td>0.018679</td>\n",
       "    </tr>\n",
       "    <tr>\n",
       "      <th>6</th>\n",
       "      <td>[0.0013591187983613981, 0.0013591187983614012]</td>\n",
       "      <td>[0.0027182375967227963, 0.01087295038689121]</td>\n",
       "      <td>0.011208</td>\n",
       "    </tr>\n",
       "    <tr>\n",
       "      <th>7</th>\n",
       "      <td>[0.0010036569587899555, -6.272855992437223e-05]</td>\n",
       "      <td>[0.002007313917579911, -0.0005018284793949779]</td>\n",
       "      <td>0.002069</td>\n",
       "    </tr>\n",
       "  </tbody>\n",
       "</table>\n",
       "</div>"
      ],
      "text/plain": [
       "                                                 X  \\\n",
       "0                                           [1, 1]   \n",
       "1       [0.7384615384615385, -0.04615384615384621]   \n",
       "2       [0.11076923076923095, 0.11076923076923087]   \n",
       "3     [0.08179881656804747, -0.005112426035502965]   \n",
       "4       [0.01226982248520711, 0.01226982248520712]   \n",
       "5     [0.009060791989076021, -0.00056629949931725]   \n",
       "6   [0.0013591187983613981, 0.0013591187983614012]   \n",
       "7  [0.0010036569587899555, -6.272855992437223e-05]   \n",
       "\n",
       "                                               梯度      梯度范数  \n",
       "0                                          [2, 8]  8.246211  \n",
       "1        [1.476923076923077, -0.3692307692307697]  1.522377  \n",
       "2         [0.2215384615384619, 0.886153846153847]  0.913426  \n",
       "3     [0.16359763313609493, -0.04089940828402372]  0.168633  \n",
       "4      [0.02453964497041422, 0.09815857988165697]  0.101180  \n",
       "5      [0.018121583978152042, -0.004530395994538]  0.018679  \n",
       "6    [0.0027182375967227963, 0.01087295038689121]  0.011208  \n",
       "7  [0.002007313917579911, -0.0005018284793949779]  0.002069  "
      ]
     },
     "execution_count": 58,
     "metadata": {},
     "output_type": "execute_result"
    }
   ],
   "source": [
    "res1"
   ]
  },
  {
   "cell_type": "markdown",
   "metadata": {},
   "source": [
    "2、Newton法求解多元二次函数极小值点，同时输出每步的X、梯度和梯度范数"
   ]
  },
  {
   "cell_type": "code",
   "execution_count": 65,
   "metadata": {},
   "outputs": [],
   "source": [
    "def newtonMethod(A, epsilon, x0):\n",
    "    x = x0\n",
    "    X, newtons, Norm, NormG = [], [], [], []\n",
    "    g, gNorm = objGradient(A, x)\n",
    "    newton = np.linalg.inv(A)@g\n",
    "    newtonNorm = np.linalg.norm(newton)\n",
    "    NormG.append(gNorm)\n",
    "    Norm.append(newtonNorm)\n",
    "    X.append(x)\n",
    "    newtons.append(newton)\n",
    "    while newtonNorm >= epsilon:\n",
    "        x = x - newton\n",
    "        g, gNorm= objGradient(A, x)\n",
    "        NormG.append(gNorm)\n",
    "        newton = np.linalg.inv(A)@g\n",
    "        newtonNorm = np.linalg.norm(newton)\n",
    "        X.append(x)\n",
    "        newtons.append(newton)\n",
    "        Norm.append(newtonNorm)\n",
    "    return X, newtons, newtonNorm"
   ]
  },
  {
   "cell_type": "code",
   "execution_count": 71,
   "metadata": {},
   "outputs": [],
   "source": [
    "A = np.array([[2, 0], [0, 8]])\n",
    "epsilon = 0.01\n",
    "x0 = np.array([1, 1])\n",
    "X, newtons, newtonNorm = newtonMethod(A, epsilon, x0)"
   ]
  },
  {
   "cell_type": "code",
   "execution_count": 73,
   "metadata": {},
   "outputs": [
    {
     "data": {
      "text/plain": [
       "[array([1, 1]), array([0., 0.])]"
      ]
     },
     "execution_count": 73,
     "metadata": {},
     "output_type": "execute_result"
    }
   ],
   "source": [
    "res2 = pd.DataFrame()"
   ]
  },
  {
   "cell_type": "code",
   "execution_count": null,
   "metadata": {},
   "outputs": [],
   "source": []
  }
 ],
 "metadata": {
  "kernelspec": {
   "display_name": "Python 3",
   "language": "python",
   "name": "python3"
  },
  "language_info": {
   "codemirror_mode": {
    "name": "ipython",
    "version": 3
   },
   "file_extension": ".py",
   "mimetype": "text/x-python",
   "name": "python",
   "nbconvert_exporter": "python",
   "pygments_lexer": "ipython3",
   "version": "3.8.3"
  }
 },
 "nbformat": 4,
 "nbformat_minor": 4
}
