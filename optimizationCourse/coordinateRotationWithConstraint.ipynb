{
 "cells": [
  {
   "cell_type": "code",
   "execution_count": 2,
   "metadata": {},
   "outputs": [],
   "source": [
    "import numpy as np"
   ]
  },
  {
   "cell_type": "code",
   "execution_count": 3,
   "metadata": {},
   "outputs": [],
   "source": [
    "def fun(x):\n",
    "    return x[0]**2 + 2*x[1]**2 - 4*x[0] - 8*x[1] + 15\n",
    "\n",
    "def g1(x):\n",
    "    return 9 - x[0]**2 - x[1]**2 >= 0\n",
    "def g2(x):\n",
    "    return x[0] >= 0\n",
    "def g3(x):\n",
    "    return x[1] >= 0\n",
    "def coordinateRotation(x0, epsilon, t0, u):\n",
    "    '''\n",
    "    x0:初始点\n",
    "    t0:初始步长\n",
    "    epsilon：迭代终止限\n",
    "    u：步长缩放因子\n",
    "    '''\n",
    "    xk = x0\n",
    "\n",
    "def oneIter(xk, t0, u):\n",
    "    E = np.eye(len(xk))\n",
    "    t = t0\n",
    "    x = xk\n",
    "    for i in range(len(xk)):\n",
    "        xk_1 = x.copy()\n",
    "        x += t*E[i, :]\n",
    "        if fun(x) < fun(xk_1) and all((g1(x), g2(x), g3(x))):\n",
    "            xk_1 = x.copy() # 记录上一步搜索点\n",
    "            x += t*E[i, :]\n",
    "            while fun(x) < fun(xk_1) and all((g1(x), g2(x), g3(x))):\n",
    "                xk_1 = x.copy()\n",
    "                x += t*E[i, :]\n",
    "            x = xk_1\n",
    "        else:\n",
    "            x = xk_1\n",
    "            x -= t*E[i, :]\n",
    "            if fun(x) < fun(xk_1) and all((g1(x), g2(x), g3(x))):\n",
    "                xk_1 = x.copy() # 记录上一步搜索点\n",
    "                x -= t*E[i, :]\n",
    "                while fun(x) < fun(xk_1) and all((g1(x), g2(x), g3(x))):\n",
    "                    xk_1 = x.copy()\n",
    "                    x += t*E[i, :]\n",
    "                x = xk_1\n",
    "    return x"
   ]
  },
  {
   "cell_type": "code",
   "execution_count": 4,
   "metadata": {},
   "outputs": [],
   "source": [
    "t0 = 1\n",
    "u = 5\n",
    "epsilon1, epsilon2 = 0.01, 0.01\n",
    "x = [0, 0]\n",
    "count = 1\n",
    "while t0 > epsilon2:\n",
    "    xk_1 = oneIter(x, t0, u)\n",
    "    t0 = t0/u\n",
    "    if np.linalg.norm(xk_1-x) <= epsilon1:\n",
    "        break\n",
    "    count+=1\n",
    "    x = xk_1"
   ]
  },
  {
   "cell_type": "code",
   "execution_count": 45,
   "metadata": {},
   "outputs": [
    {
     "name": "stdout",
     "output_type": "stream",
     "text": [
      "x:[2. 2.]\n",
      "funValue:3.0\n"
     ]
    }
   ],
   "source": [
    "print('x:{0}\\nfunValue:{1}'.format(x, fun(x)))"
   ]
  },
  {
   "cell_type": "code",
   "execution_count": null,
   "metadata": {},
   "outputs": [],
   "source": []
  }
 ],
 "metadata": {
  "kernelspec": {
   "display_name": "Python 3",
   "language": "python",
   "name": "python3"
  },
  "language_info": {
   "codemirror_mode": {
    "name": "ipython",
    "version": 3
   },
   "file_extension": ".py",
   "mimetype": "text/x-python",
   "name": "python",
   "nbconvert_exporter": "python",
   "pygments_lexer": "ipython3",
   "version": "3.8.5"
  }
 },
 "nbformat": 4,
 "nbformat_minor": 4
}
