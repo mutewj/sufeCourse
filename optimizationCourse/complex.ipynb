{
 "cells": [
  {
   "cell_type": "code",
   "execution_count": 11,
   "metadata": {},
   "outputs": [],
   "source": [
    "import numpy as np"
   ]
  },
  {
   "cell_type": "code",
   "execution_count": 126,
   "metadata": {},
   "outputs": [],
   "source": [
    "def fun(x):\n",
    "    return x[0]**2 + 2*x[1]**2 - 4*x[0] - 8*x[1] + 15\n",
    "def g(x):\n",
    "    return all((1<=x[0]<=3, 0.5<=x[1]<=3))"
   ]
  },
  {
   "cell_type": "code",
   "execution_count": 174,
   "metadata": {},
   "outputs": [],
   "source": [
    "def get_X0(initial_x, XH):\n",
    "    x = np.asarray(initial_x)\n",
    "    xh = np.asarray(XH)\n",
    "    x0 = (sum(x) - xh)/(len(x)-1)\n",
    "    return list(x0)\n",
    "def get_XR(X0, t, XH):\n",
    "    x0 = np.asarray(X0)\n",
    "    xh = np.asarray(XH)\n",
    "    Xr = x0 + t*(x0-xh)\n",
    "    return list(Xr)\n",
    "def get_complex(initial_x, Xh = None):\n",
    "    if Xh in initial_x:\n",
    "        initial_x.remove(Xh)\n",
    "    fun_list = [fun(x) for x in initial_x]\n",
    "    XH = initial_x[fun_list.index(sorted(fun_list)[-1])]\n",
    "    XL = initial_x[fun_list.index(sorted(fun_list)[0])]\n",
    "    X0 = get_X0(initial_x, XH)\n",
    "    return XH, X0, XL\n",
    "\n",
    "def complex(initial_x, epsilon, t, XH):\n",
    "    print('initial_x', initial_x)\n",
    "    fun_list = [fun(i) for i in initial_x]\n",
    "    print('fun_list', fun_list)\n",
    "    t0 = t\n",
    "    x = initial_x.copy()\n",
    "    XH, X0, XL = get_complex(initial_x, Xh=XH)# 第一步的放入get_complex函数的XH为None\n",
    "    func_list1 = [fun(X0) - fun(i) for i in initial_x]\n",
    "    if (np.linalg.norm(func_list1))/(len(initial_x)**0.5) <= epsilon:\n",
    "        return XL\n",
    "    print('xh, x0, xl',XH, X0, XL)\n",
    "    XR = get_XR(X0, t, XH)\n",
    "    print('XR', XR)\n",
    "    if not g(XR):# 若在可行域外，则\n",
    "        t0/=2\n",
    "        XR = get_XR(X0, t, XH)\n",
    "    if fun(XR) < fun(XH):\n",
    "        x.remove(XH)\n",
    "        x.append(XR)\n",
    "        return complex(x, epsilon, t0, XH=None)\n",
    "    else:\n",
    "        while fun(XR) >= fun(XH):\n",
    "            if abs(t0) <= 1e-5:\n",
    "                return complex(x, epsilon, t0, XH)# 若t足够小而仍不满足f（XR）< f(XH)则换次坏点\n",
    "            t0/=2\n",
    "            XR = get_XR(X0, t0, XH)\n",
    "        x.remove(XH)\n",
    "        x.append(XR)\n",
    "        return complex(x, epsilon, t0, XH=None)"
   ]
  },
  {
   "cell_type": "code",
   "execution_count": 175,
   "metadata": {},
   "outputs": [
    {
     "data": {
      "text/plain": [
       "[0.0, 2.8284271247461903, 0.5]"
      ]
     },
     "execution_count": 175,
     "metadata": {},
     "output_type": "execute_result"
    }
   ],
   "source": [
    "initial_x = [[0, 0],[2, 2], [0, 0.5]]\n",
    "list(map(np.linalg.norm, initial_x))"
   ]
  },
  {
   "cell_type": "code",
   "execution_count": 176,
   "metadata": {},
   "outputs": [
    {
     "name": "stdout",
     "output_type": "stream",
     "text": [
      "initial_x [[0, 0], [2, 2], [0, 0.5]]\n",
      "fun_list [15, 3, 11.5]\n",
      "xh, x0, xl [0, 0] [1.0, 1.25] [2, 2]\n",
      "XR [2.3, 2.875]\n",
      "initial_x [[2, 2], [0, 0.5], [2.3, 2.875]]\n",
      "fun_list [3, 11.5, 4.62125]\n",
      "xh, x0, xl [0, 0.5] [2.15, 2.4375] [2, 2]\n",
      "XR [4.945, 4.956250000000001]\n",
      "initial_x [[2, 2], [2.3, 2.875], [2.84875, 3.0671875]]\n",
      "fun_list [3, 4.62125, 5.9981548828125]\n",
      "xh, x0, xl [2.84875, 3.0671875] [2.15, 2.4375] [2, 2]\n",
      "XR [1.9229062499999998, 2.2328515625]\n",
      "initial_x [[2, 2], [2.3, 2.875], [1.9229062499999998, 2.2328515625]]\n",
      "fun_list [3, 4.62125, 3.114383146606446]\n",
      "xh, x0, xl [2.3, 2.875] [1.9614531249999998, 2.1164257812500002] [2, 2]\n",
      "XR [1.8514253906249998, 1.8698891601562504]\n",
      "initial_x [[2, 2], [1.9229062499999998, 2.2328515625], [1.8514253906249998, 1.8698891601562504]]\n",
      "fun_list [3, 3.114383146606446, 3.0559320758406248]\n"
     ]
    },
    {
     "data": {
      "text/plain": [
       "[2, 2]"
      ]
     },
     "execution_count": 176,
     "metadata": {},
     "output_type": "execute_result"
    }
   ],
   "source": [
    "complex(initial_x, epsilon = 0.2, t=1.3, XH=None)"
   ]
  },
  {
   "cell_type": "code",
   "execution_count": 177,
   "metadata": {},
   "outputs": [
    {
     "data": {
      "text/plain": [
       "3"
      ]
     },
     "execution_count": 177,
     "metadata": {},
     "output_type": "execute_result"
    }
   ],
   "source": [
    "fun([2, 2])"
   ]
  },
  {
   "cell_type": "code",
   "execution_count": null,
   "metadata": {},
   "outputs": [],
   "source": []
  }
 ],
 "metadata": {
  "kernelspec": {
   "display_name": "Python 3",
   "language": "python",
   "name": "python3"
  },
  "language_info": {
   "codemirror_mode": {
    "name": "ipython",
    "version": 3
   },
   "file_extension": ".py",
   "mimetype": "text/x-python",
   "name": "python",
   "nbconvert_exporter": "python",
   "pygments_lexer": "ipython3",
   "version": "3.8.5"
  }
 },
 "nbformat": 4,
 "nbformat_minor": 4
}
