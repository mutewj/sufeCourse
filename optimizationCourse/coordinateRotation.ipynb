{
 "cells": [
  {
   "cell_type": "code",
   "execution_count": 1,
   "metadata": {},
   "outputs": [],
   "source": [
    "import numpy as np\n",
    "import pandas as pd"
   ]
  },
  {
   "cell_type": "code",
   "execution_count": 2,
   "metadata": {},
   "outputs": [],
   "source": [
    "class coordinateRotaion():\n",
    "    def __init__(self, A, b, c, x0):\n",
    "        self.A = A\n",
    "        self.b = b\n",
    "        self.x = x0\n",
    "        self.c = c\n",
    "        self.E = np.eye(*A.shape)\n",
    "        self.X, self.NormG, self.funValue = [], [], []\n",
    "    # 定义二次函数\n",
    "    def fun(self, x):\n",
    "        return (x.T)@self.A@x/2 + self.b@x + self.c\n",
    "    \n",
    "    # 梯度\n",
    "    def objGradient(self, x):\n",
    "        g = self.A @ np.array(x) + self.b\n",
    "        gNorm = np.linalg.norm(g, axis = 0)\n",
    "        return g, gNorm\n",
    "    \n",
    "    # 迭代主体\n",
    "    def iterate(self, epsilon):\n",
    "        '''\n",
    "        params:\n",
    "        epsilon:迭代终止界限，梯度范数小于epsilon\n",
    "        '''\n",
    "        self.X, self.NormG, self.funValue = [], [], []\n",
    "        x = self.x\n",
    "        x_k = x - epsilon - 10# 保证第一轮迭代能进行\n",
    "        self.X.append(x)\n",
    "        g, gNorm = self.objGradient(x)\n",
    "        self.NormG.append(gNorm)\n",
    "        self.funValue.append(self.fun(x))# 记录迭代函数值\n",
    "        while abs(np.linalg.norm(x - x_k)) > epsilon and abs(gNorm) > epsilon:\n",
    "            x_k = x\n",
    "            x ,gNorm= self.one_iteration(x)\n",
    "            self.X.append(x)\n",
    "            self.funValue.append(self.fun(x))\n",
    "            self.NormG.append(gNorm)\n",
    "        return self.X, self.NormG, self.funValue\n",
    "    \n",
    "    # 一轮循环定义\n",
    "    def one_iteration(self, initial_x):\n",
    "        xk = initial_x\n",
    "        for k in range(self.A.shape[0]):\n",
    "            xk = xk + self.search_t(xk, self.E[k, :])*self.E[k, :]\n",
    "            gk, gNorm = self.objGradient(xk)\n",
    "        return xk, gNorm\n",
    "    def search_t(self, x, direction):\n",
    "        return -((self.b.T)@direction + direction.T@self.A@x/2 + x.T@self.A@direction/2)/(direction.T@self.A@direction)\n",
    "    "
   ]
  },
  {
   "cell_type": "code",
   "execution_count": 3,
   "metadata": {},
   "outputs": [],
   "source": [
    "A = np.array([[2, -1], [-1, 2]])\n",
    "b = np.array([-10, -4])\n",
    "c = 60\n",
    "epsilon = 0.1\n",
    "x0 = np.array([0, 0])\n",
    "seventh = coordinateRotaion(A, b, c, x0)"
   ]
  },
  {
   "cell_type": "code",
   "execution_count": 4,
   "metadata": {},
   "outputs": [],
   "source": [
    "X, NormG, funValue = seventh.iterate(epsilon)\n",
    "res7 = pd.DataFrame({'迭代X值':X, '梯度范数':NormG, '函数值：':funValue})"
   ]
  },
  {
   "cell_type": "code",
   "execution_count": 5,
   "metadata": {},
   "outputs": [
    {
     "data": {
      "text/html": [
       "<div>\n",
       "<style scoped>\n",
       "    .dataframe tbody tr th:only-of-type {\n",
       "        vertical-align: middle;\n",
       "    }\n",
       "\n",
       "    .dataframe tbody tr th {\n",
       "        vertical-align: top;\n",
       "    }\n",
       "\n",
       "    .dataframe thead th {\n",
       "        text-align: right;\n",
       "    }\n",
       "</style>\n",
       "<table border=\"1\" class=\"dataframe\">\n",
       "  <thead>\n",
       "    <tr style=\"text-align: right;\">\n",
       "      <th></th>\n",
       "      <th>迭代X值</th>\n",
       "      <th>梯度范数</th>\n",
       "      <th>函数值：</th>\n",
       "    </tr>\n",
       "  </thead>\n",
       "  <tbody>\n",
       "    <tr>\n",
       "      <th>0</th>\n",
       "      <td>[0, 0]</td>\n",
       "      <td>10.770330</td>\n",
       "      <td>60.000000</td>\n",
       "    </tr>\n",
       "    <tr>\n",
       "      <th>1</th>\n",
       "      <td>[5.0, 4.5]</td>\n",
       "      <td>4.500000</td>\n",
       "      <td>14.750000</td>\n",
       "    </tr>\n",
       "    <tr>\n",
       "      <th>2</th>\n",
       "      <td>[7.25, 5.625]</td>\n",
       "      <td>1.125000</td>\n",
       "      <td>8.421875</td>\n",
       "    </tr>\n",
       "    <tr>\n",
       "      <th>3</th>\n",
       "      <td>[7.8125, 5.90625]</td>\n",
       "      <td>0.281250</td>\n",
       "      <td>8.026367</td>\n",
       "    </tr>\n",
       "    <tr>\n",
       "      <th>4</th>\n",
       "      <td>[7.953125, 5.9765625]</td>\n",
       "      <td>0.070312</td>\n",
       "      <td>8.001648</td>\n",
       "    </tr>\n",
       "  </tbody>\n",
       "</table>\n",
       "</div>"
      ],
      "text/plain": [
       "                    迭代X值       梯度范数       函数值：\n",
       "0                 [0, 0]  10.770330  60.000000\n",
       "1             [5.0, 4.5]   4.500000  14.750000\n",
       "2          [7.25, 5.625]   1.125000   8.421875\n",
       "3      [7.8125, 5.90625]   0.281250   8.026367\n",
       "4  [7.953125, 5.9765625]   0.070312   8.001648"
      ]
     },
     "execution_count": 5,
     "metadata": {},
     "output_type": "execute_result"
    }
   ],
   "source": [
    "res7"
   ]
  }
 ],
 "metadata": {
  "kernelspec": {
   "display_name": "Python 3",
   "language": "python",
   "name": "python3"
  },
  "language_info": {
   "codemirror_mode": {
    "name": "ipython",
    "version": 3
   },
   "file_extension": ".py",
   "mimetype": "text/x-python",
   "name": "python",
   "nbconvert_exporter": "python",
   "pygments_lexer": "ipython3",
   "version": "3.8.3"
  }
 },
 "nbformat": 4,
 "nbformat_minor": 4
}
