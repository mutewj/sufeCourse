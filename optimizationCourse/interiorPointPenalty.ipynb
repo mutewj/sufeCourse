{
 "cells": [
  {
   "cell_type": "code",
   "execution_count": 1,
   "metadata": {},
   "outputs": [],
   "source": [
    "import numpy as np\n",
    "import pandas as pd"
   ]
  },
  {
   "cell_type": "code",
   "execution_count": 2,
   "metadata": {},
   "outputs": [],
   "source": [
    "def fun(x, rk):\n",
    "    return ((x[0] + 1)**3)/3 + x[1] + rk/(x[0] - 1) + rk/x[1]\n",
    "# 梯度\n",
    "def objGradient(x):\n",
    "    g = np.array([(x[0]+1)**2 - rk/((x[0] - 1)**2), 1-rk/(x[1]**2)])\n",
    "    gNorm = np.linalg.norm(g, axis = 0)\n",
    "    return g, gNorm\n",
    "\n",
    "# 迭代主体\n",
    "def gradientDescent(x0, epsilon):\n",
    "    x = x0\n",
    "    X, G, Norm = [], [], []\n",
    "    g, NormG = objGradient(x)\n",
    "    X.append(x)\n",
    "    G.append(g)\n",
    "    while NormG >= epsilon:\n",
    "        x = x - 0.00001*g\n",
    "        X.append(x)\n",
    "        g, NormG = objGradient(x)\n",
    "        G.append(g)\n",
    "    return X[-1], G"
   ]
  },
  {
   "cell_type": "code",
   "execution_count": 3,
   "metadata": {},
   "outputs": [
    {
     "name": "stdout",
     "output_type": "stream",
     "text": [
      "[2.04016609 3.17820858]\n",
      "[1.41421356 1.00503773]\n",
      "[1.1472697  0.31782079]\n",
      "[1.04880885 0.10050376]\n",
      "[1.01568833 0.03178203]\n",
      "[1.00498756 0.01005032]\n",
      "[1.00157989 0.00317816]\n",
      "[1.00049988 0.00100502]\n",
      "[1.0001581e+00 3.1780147e-04]\n",
      "[1.00005000e+00 1.00413855e-04]\n",
      "[1.00001580e+00 3.16227766e-05]\n"
     ]
    }
   ],
   "source": [
    "c = 0.1\n",
    "rk = 10\n",
    "X = np.array([3, 4])\n",
    "epsilon = 1e-5\n",
    "while rk*(1/(X[0] - 1) + 1/X[1]) > epsilon:\n",
    "    X, G = gradientDescent(X, 0.01)\n",
    "    print(X)\n",
    "    rk*=c"
   ]
  },
  {
   "cell_type": "code",
   "execution_count": null,
   "metadata": {},
   "outputs": [],
   "source": []
  }
 ],
 "metadata": {
  "kernelspec": {
   "display_name": "Python 3",
   "language": "python",
   "name": "python3"
  },
  "language_info": {
   "codemirror_mode": {
    "name": "ipython",
    "version": 3
   },
   "file_extension": ".py",
   "mimetype": "text/x-python",
   "name": "python",
   "nbconvert_exporter": "python",
   "pygments_lexer": "ipython3",
   "version": "3.8.5"
  }
 },
 "nbformat": 4,
 "nbformat_minor": 4
}
