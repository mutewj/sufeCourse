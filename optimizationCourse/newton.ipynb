{
 "cells": [
  {
   "cell_type": "raw",
   "metadata": {},
   "source": [
    "2、Newton法求解多元二次函数极小值点，同时输出每步的X、梯度和梯度范数"
   ]
  },
  {
   "cell_type": "code",
   "execution_count": 2,
   "metadata": {},
   "outputs": [],
   "source": [
    "import numpy as np\n",
    "import pandas as pd"
   ]
  },
  {
   "cell_type": "code",
   "execution_count": 3,
   "metadata": {},
   "outputs": [],
   "source": [
    "def objGradient(A, b, x):\n",
    "    g = A @ np.array(x) + b\n",
    "    gNorm = np.linalg.norm(g, axis = 0)\n",
    "    return np.array(g), gNorm"
   ]
  },
  {
   "cell_type": "code",
   "execution_count": 4,
   "metadata": {},
   "outputs": [],
   "source": [
    "def fun(A, b, c, x):\n",
    "    return (x.T)@A@x/2 + b@x + c"
   ]
  },
  {
   "cell_type": "code",
   "execution_count": 5,
   "metadata": {},
   "outputs": [],
   "source": [
    "def newtonMethod(A, b, c, epsilon, x0):\n",
    "    x = x0\n",
    "    X, newtons, Norm, NormG, funValue = [], [], [], [], []\n",
    "    g, gNorm = objGradient(A, b, x)\n",
    "    newton = np.linalg.inv(A)@g\n",
    "    print(newton)\n",
    "    newtonNorm = np.linalg.norm(newton)\n",
    "    NormG.append(gNorm)\n",
    "    Norm.append(newtonNorm)\n",
    "    X.append(x)\n",
    "    newtons.append(newton)\n",
    "    funValue.append(fun(A, b, c, x))\n",
    "    while newtonNorm >= epsilon:\n",
    "        x = x - newton\n",
    "        g, gNorm= objGradient(A, b, x)\n",
    "        NormG.append(gNorm)\n",
    "        newton = np.linalg.inv(A)@g\n",
    "        newtonNorm = np.linalg.norm(newton)\n",
    "        X.append(x)\n",
    "        funValue.append(fun(A, b, c, x))\n",
    "        newtons.append(newton)\n",
    "        Norm.append(newtonNorm)\n",
    "    return X, newtons, Norm, funValue"
   ]
  },
  {
   "cell_type": "code",
   "execution_count": 6,
   "metadata": {},
   "outputs": [
    {
     "name": "stdout",
     "output_type": "stream",
     "text": [
      "[-8. -6.]\n"
     ]
    }
   ],
   "source": [
    "A = np.array([[2, -1], [-1, 2]])\n",
    "b = np.array([-10, -4])\n",
    "c = 60\n",
    "epsilon = 0.01\n",
    "x0 = np.array([0, 0])\n",
    "X, newtons, newtonNorm ,funValue= newtonMethod(A, b, c, epsilon, x0)"
   ]
  },
  {
   "cell_type": "code",
   "execution_count": 7,
   "metadata": {},
   "outputs": [
    {
     "data": {
      "text/html": [
       "<div>\n",
       "<style scoped>\n",
       "    .dataframe tbody tr th:only-of-type {\n",
       "        vertical-align: middle;\n",
       "    }\n",
       "\n",
       "    .dataframe tbody tr th {\n",
       "        vertical-align: top;\n",
       "    }\n",
       "\n",
       "    .dataframe thead th {\n",
       "        text-align: right;\n",
       "    }\n",
       "</style>\n",
       "<table border=\"1\" class=\"dataframe\">\n",
       "  <thead>\n",
       "    <tr style=\"text-align: right;\">\n",
       "      <th></th>\n",
       "      <th>X</th>\n",
       "      <th>迭代步长</th>\n",
       "      <th>步长范数</th>\n",
       "      <th>函数值</th>\n",
       "    </tr>\n",
       "  </thead>\n",
       "  <tbody>\n",
       "    <tr>\n",
       "      <th>0</th>\n",
       "      <td>[0, 0]</td>\n",
       "      <td>[-7.999999999999999, -6.0]</td>\n",
       "      <td>1.000000e+01</td>\n",
       "      <td>60.0</td>\n",
       "    </tr>\n",
       "    <tr>\n",
       "      <th>1</th>\n",
       "      <td>[7.999999999999999, 6.0]</td>\n",
       "      <td>[-8.881784197001252e-16, 0.0]</td>\n",
       "      <td>8.881784e-16</td>\n",
       "      <td>8.0</td>\n",
       "    </tr>\n",
       "  </tbody>\n",
       "</table>\n",
       "</div>"
      ],
      "text/plain": [
       "                          X                           迭代步长          步长范数   函数值\n",
       "0                    [0, 0]     [-7.999999999999999, -6.0]  1.000000e+01  60.0\n",
       "1  [7.999999999999999, 6.0]  [-8.881784197001252e-16, 0.0]  8.881784e-16   8.0"
      ]
     },
     "execution_count": 7,
     "metadata": {},
     "output_type": "execute_result"
    }
   ],
   "source": [
    "res2 = pd.DataFrame({'X':X,'迭代步长':newtons,'步长范数':newtonNorm, '函数值':funValue})\n",
    "res2"
   ]
  }
 ],
 "metadata": {
  "kernelspec": {
   "display_name": "Python 3",
   "language": "python",
   "name": "python3"
  },
  "language_info": {
   "codemirror_mode": {
    "name": "ipython",
    "version": 3
   },
   "file_extension": ".py",
   "mimetype": "text/x-python",
   "name": "python",
   "nbconvert_exporter": "python",
   "pygments_lexer": "ipython3",
   "version": "3.8.3"
  }
 },
 "nbformat": 4,
 "nbformat_minor": 4
}
