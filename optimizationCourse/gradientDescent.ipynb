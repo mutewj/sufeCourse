{
 "cells": [
  {
   "cell_type": "raw",
   "metadata": {},
   "source": [
    "1、梯度下降法求多元二次函数极小值点，同时求出每步迭代的梯度"
   ]
  },
  {
   "cell_type": "code",
   "execution_count": 2,
   "metadata": {},
   "outputs": [],
   "source": [
    "import numpy as np\n",
    "import pandas as pd"
   ]
  },
  {
   "cell_type": "code",
   "execution_count": 3,
   "metadata": {},
   "outputs": [],
   "source": [
    "def objGradient(A, b, x):\n",
    "    g = A @ np.array(x) + b\n",
    "    gNorm = np.linalg.norm(g, axis = 0)\n",
    "    return np.array(g), gNorm"
   ]
  },
  {
   "cell_type": "code",
   "execution_count": 4,
   "metadata": {},
   "outputs": [],
   "source": [
    "def gradientDescent(A, b, epsilon, x0):\n",
    "    x = x0\n",
    "    X, G, Norm = [], [], []\n",
    "    g, NormG = objGradient(A, b, x0)\n",
    "    X.append(x)\n",
    "    G.append(g)\n",
    "    Norm.append(NormG)\n",
    "    while NormG >= epsilon:\n",
    "        x = x - ((g.T@g)/(g.T@A@g))*g\n",
    "        X.append(x)\n",
    "        g, NormG = objGradient(A, b, x)\n",
    "        G.append(g)\n",
    "        Norm.append(NormG)\n",
    "    return X, G, Norm"
   ]
  },
  {
   "cell_type": "code",
   "execution_count": 5,
   "metadata": {},
   "outputs": [],
   "source": [
    "A = np.array([[2, 0], [0, 50]])\n",
    "b = np.array([0, 0])\n",
    "epsilon = 0.01\n",
    "x0 = np.array([2, 2])\n",
    "X, G, Norm = gradientDescent(A, b, epsilon, x0)"
   ]
  },
  {
   "cell_type": "code",
   "execution_count": 6,
   "metadata": {},
   "outputs": [],
   "source": [
    "res1 = pd.DataFrame({'X':X,'梯度':G,'梯度范数':Norm})"
   ]
  },
  {
   "cell_type": "code",
   "execution_count": 7,
   "metadata": {},
   "outputs": [
    {
     "data": {
      "text/html": [
       "<div>\n",
       "<style scoped>\n",
       "    .dataframe tbody tr th:only-of-type {\n",
       "        vertical-align: middle;\n",
       "    }\n",
       "\n",
       "    .dataframe tbody tr th {\n",
       "        vertical-align: top;\n",
       "    }\n",
       "\n",
       "    .dataframe thead th {\n",
       "        text-align: right;\n",
       "    }\n",
       "</style>\n",
       "<table border=\"1\" class=\"dataframe\">\n",
       "  <thead>\n",
       "    <tr style=\"text-align: right;\">\n",
       "      <th></th>\n",
       "      <th>X</th>\n",
       "      <th>梯度</th>\n",
       "      <th>梯度范数</th>\n",
       "    </tr>\n",
       "  </thead>\n",
       "  <tbody>\n",
       "    <tr>\n",
       "      <th>0</th>\n",
       "      <td>[2, 2]</td>\n",
       "      <td>[4, 100]</td>\n",
       "      <td>100.079968</td>\n",
       "    </tr>\n",
       "    <tr>\n",
       "      <th>1</th>\n",
       "      <td>[1.9198771278638167, -0.0030718034045822407]</td>\n",
       "      <td>[3.8397542557276334, -0.15359017022911203]</td>\n",
       "      <td>3.842825</td>\n",
       "    </tr>\n",
       "    <tr>\n",
       "      <th>2</th>\n",
       "      <td>[0.07088777087497777, 0.07088777087497454]</td>\n",
       "      <td>[0.14177554174995555, 3.544388543748727]</td>\n",
       "      <td>3.547223</td>\n",
       "    </tr>\n",
       "    <tr>\n",
       "      <th>3</th>\n",
       "      <td>[0.06804790497406032, -0.00010887664795850016]</td>\n",
       "      <td>[0.13609580994812065, -0.005443832397925008]</td>\n",
       "      <td>0.136205</td>\n",
       "    </tr>\n",
       "    <tr>\n",
       "      <th>4</th>\n",
       "      <td>[0.00251253802981162, 0.002512538029811536]</td>\n",
       "      <td>[0.00502507605962324, 0.1256269014905768]</td>\n",
       "      <td>0.125727</td>\n",
       "    </tr>\n",
       "    <tr>\n",
       "      <th>5</th>\n",
       "      <td>[0.0024118821481616728, -3.859011437058486e-06]</td>\n",
       "      <td>[0.0048237642963233456, -0.00019295057185292428]</td>\n",
       "      <td>0.004828</td>\n",
       "    </tr>\n",
       "  </tbody>\n",
       "</table>\n",
       "</div>"
      ],
      "text/plain": [
       "                                                 X  \\\n",
       "0                                           [2, 2]   \n",
       "1     [1.9198771278638167, -0.0030718034045822407]   \n",
       "2       [0.07088777087497777, 0.07088777087497454]   \n",
       "3   [0.06804790497406032, -0.00010887664795850016]   \n",
       "4      [0.00251253802981162, 0.002512538029811536]   \n",
       "5  [0.0024118821481616728, -3.859011437058486e-06]   \n",
       "\n",
       "                                                 梯度        梯度范数  \n",
       "0                                          [4, 100]  100.079968  \n",
       "1        [3.8397542557276334, -0.15359017022911203]    3.842825  \n",
       "2          [0.14177554174995555, 3.544388543748727]    3.547223  \n",
       "3      [0.13609580994812065, -0.005443832397925008]    0.136205  \n",
       "4         [0.00502507605962324, 0.1256269014905768]    0.125727  \n",
       "5  [0.0048237642963233456, -0.00019295057185292428]    0.004828  "
      ]
     },
     "execution_count": 7,
     "metadata": {},
     "output_type": "execute_result"
    }
   ],
   "source": [
    "res1"
   ]
  }
 ],
 "metadata": {
  "kernelspec": {
   "display_name": "Python 3",
   "language": "python",
   "name": "python3"
  },
  "language_info": {
   "codemirror_mode": {
    "name": "ipython",
    "version": 3
   },
   "file_extension": ".py",
   "mimetype": "text/x-python",
   "name": "python",
   "nbconvert_exporter": "python",
   "pygments_lexer": "ipython3",
   "version": "3.8.3"
  }
 },
 "nbformat": 4,
 "nbformat_minor": 4
}
